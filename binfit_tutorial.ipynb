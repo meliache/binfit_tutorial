{
 "cells": [
  {
   "cell_type": "markdown",
   "metadata": {},
   "source": [
    "Execute the following cell to render the README.md inside the notebook:"
   ]
  },
  {
   "cell_type": "code",
   "execution_count": 1,
   "metadata": {},
   "outputs": [
    {
     "data": {
      "text/markdown": [
       "# Hands-on binfit tutorial notebook\n",
       "\n",
       "Tutorial for the [binfit](https://stash.desy.de/users/sutclw/repos/binfit)\n",
       "package developed for template fits in Belle II analyses.\n",
       "\n",
       "## Background information on `binfit` and relation to `TemplateFitter`\n",
       "\n",
       "`binfit` is a python package for performing template fits in pure python\n",
       "developed and maintained by [William\n",
       "Sutcliffe](mailto:william.sutcliffe08@gmail.com).\n",
       "\n",
       "Its code is based in large parts on [Maximillian\n",
       "Welsch](mailto:mwelsch@uni-bonn.de)'s `TemplateFitter` package, which is also\n",
       "openly [available on github](https://github.com/welschma/TemplateFitter).\n",
       "\n",
       "Another fork of the `TemplateFitter` package is being actively developed by\n",
       "[Felix Metzner](mailto:felix.metzner@kit.edu), also [on\n",
       "github](https://github.com/FelixMetzner/TemplateFitter). As far as I understand\n",
       "he extends it generalizes the template fitter, e.g. with support for arbitrary\n",
       "dimensions, adaptive binning.\n",
       "\n",
       "## Features\n",
       "\n",
       "The distinguishing feature of `binfit` from the other `TemplateFitter` packages,\n",
       "is that it gets rid of for-loops over the decay-channels in the fit by\n",
       "using matrix multiplications for all operations.\n",
       "\n",
       "\n",
       "## Other references / tutorials\n",
       "\n",
       "An already existing example notebook can be found in the\n",
       "[binfit/examples/](https://stash.desy.de/users/sutclw/repos/binfit/browse/binfit/examples)\n",
       "directory of the packages. It requires you to clone binfit (see *Installation*\n",
       "section below). I will take inspiration from that.\n",
       "\n",
       "There is a `docs/` directory which is meant to contain sphinx package\n",
       "documentation (what basf2 uses) in RestructuredText (rst format), but the\n",
       "installation instructions there are outdated. Maybe that will change. Feel free\n",
       "to contribute if you want.\n",
       "\n",
       "Max had already given a nice tutorial for his package at the October 2019 B2GM.\n",
       "In his talk he gave a very nice overview on the theory of template fitting, so I\n",
       "recommend you to look at his\n",
       "[slides](https://indico.belle2.org/event/1158/contributions/4726/attachments/2809/4241/b2gm_templatefitter.pdf).\n",
       "If you want to try out Max' `TemplateFitter`, e.g. to compare it to `binfit`,\n",
       "there's already good\n",
       "[tutorials](https://github.com/welschma/TemplateFitter/blob/master/examples/basic_example.ipynb)\n",
       "in his packages `examples` folder. Also, his package has a nice sphinx\n",
       "[online-documentation on\n",
       "readthedocs](https://templatefitter.readthedocs.io/en/latest/index.html).\n",
       "\n",
       "## Tutorial author\n",
       "\n",
       "[Michael Eliachevitch](mailto:meliache@uni-bonn.de \"email\")\n"
      ],
      "text/plain": [
       "<IPython.core.display.Markdown object>"
      ]
     },
     "metadata": {},
     "output_type": "display_data"
    }
   ],
   "source": [
    "from IPython.display import display, Markdown\n",
    "with open('README.md', 'r') as fh:\n",
    "    content = fh.read()\n",
    "display(Markdown(content))"
   ]
  },
  {
   "cell_type": "markdown",
   "metadata": {},
   "source": [
    "## Installation\n",
    "\n",
    "### Variant 1: pip install via single command\n",
    "The fastest is to just install it via `pip` with a single command (if you haven't installed it yet, you can just execute the notebook cell below):"
   ]
  },
  {
   "cell_type": "code",
   "execution_count": 27,
   "metadata": {},
   "outputs": [],
   "source": [
    "!python3 -m pip install --user --upgrade \"git+ssh://git@stash.desy.de:7999/~sutclw/binfit.git\""
   ]
  },
  {
   "cell_type": "markdown",
   "metadata": {},
   "source": [
    "### Variant 2: Clone the repository (recommended)\n",
    "\n",
    "I would recommend thi options, because that makes it actually easier to navigate the source code locally.\n",
    "Also, you will be able to browse the documentation and examples which come with the package.\n",
    "\n",
    "```bash\n",
    "git clone ssh://git@stash.desy.de:7999/~sutclw/binfit.git\n",
    "cd binfit\n",
    "python3 -m pip3 install --user --editable --upgrade . \n",
    "```\n",
    "\n",
    "The last install command will install the package and its requirements. The `--editable` changes the installation so that it is performed by symlinking the package files instead of copying them. As a result, if you change something in the source code, the changes will immediately effect the installed version."
   ]
  },
  {
   "cell_type": "markdown",
   "metadata": {},
   "source": [
    "## Usage\n",
    "As soon as the package is installed, you should be able to successfully import it:"
   ]
  },
  {
   "cell_type": "code",
   "execution_count": 21,
   "metadata": {},
   "outputs": [],
   "source": [
    "import binfit\n",
    "from binfit.parameters.parametershandler import ParameterHandler\n",
    "import binfit.fitting\n",
    "import pandas as pd\n",
    "import numpy as np\n",
    "import scipy.optimize"
   ]
  },
  {
   "cell_type": "markdown",
   "metadata": {},
   "source": [
    "### Load dataframes"
   ]
  },
  {
   "cell_type": "code",
   "execution_count": 3,
   "metadata": {},
   "outputs": [
    {
     "data": {
      "text/html": [
       "<div>\n",
       "<style scoped>\n",
       "    .dataframe tbody tr th:only-of-type {\n",
       "        vertical-align: middle;\n",
       "    }\n",
       "\n",
       "    .dataframe tbody tr th {\n",
       "        vertical-align: top;\n",
       "    }\n",
       "\n",
       "    .dataframe thead th {\n",
       "        text-align: right;\n",
       "    }\n",
       "</style>\n",
       "<table border=\"1\" class=\"dataframe\">\n",
       "  <thead>\n",
       "    <tr style=\"text-align: right;\">\n",
       "      <th></th>\n",
       "      <th>3</th>\n",
       "      <th>4</th>\n",
       "      <th>13</th>\n",
       "      <th>18</th>\n",
       "      <th>33</th>\n",
       "      <th>35</th>\n",
       "      <th>42</th>\n",
       "      <th>81</th>\n",
       "      <th>94</th>\n",
       "      <th>99</th>\n",
       "      <th>...</th>\n",
       "      <th>407937</th>\n",
       "      <th>408075</th>\n",
       "      <th>408741</th>\n",
       "      <th>408830</th>\n",
       "      <th>408899</th>\n",
       "      <th>409074</th>\n",
       "      <th>409201</th>\n",
       "      <th>409242</th>\n",
       "      <th>409271</th>\n",
       "      <th>409299</th>\n",
       "    </tr>\n",
       "  </thead>\n",
       "  <tbody>\n",
       "    <tr>\n",
       "      <th>Dgam_FF_downweight0</th>\n",
       "      <td>NaN</td>\n",
       "      <td>NaN</td>\n",
       "      <td>NaN</td>\n",
       "      <td>NaN</td>\n",
       "      <td>NaN</td>\n",
       "      <td>NaN</td>\n",
       "      <td>NaN</td>\n",
       "      <td>NaN</td>\n",
       "      <td>NaN</td>\n",
       "      <td>NaN</td>\n",
       "      <td>...</td>\n",
       "      <td>1.000000</td>\n",
       "      <td>1.000000</td>\n",
       "      <td>1.000000</td>\n",
       "      <td>1.000000</td>\n",
       "      <td>1.000000</td>\n",
       "      <td>1.000000</td>\n",
       "      <td>1.000000</td>\n",
       "      <td>1.000000</td>\n",
       "      <td>1.000000</td>\n",
       "      <td>1.000000</td>\n",
       "    </tr>\n",
       "    <tr>\n",
       "      <th>Dgam_FF_downweight1</th>\n",
       "      <td>NaN</td>\n",
       "      <td>NaN</td>\n",
       "      <td>NaN</td>\n",
       "      <td>NaN</td>\n",
       "      <td>NaN</td>\n",
       "      <td>NaN</td>\n",
       "      <td>NaN</td>\n",
       "      <td>NaN</td>\n",
       "      <td>NaN</td>\n",
       "      <td>NaN</td>\n",
       "      <td>...</td>\n",
       "      <td>1.000000</td>\n",
       "      <td>1.000000</td>\n",
       "      <td>1.000000</td>\n",
       "      <td>1.000000</td>\n",
       "      <td>1.000000</td>\n",
       "      <td>1.000000</td>\n",
       "      <td>1.000000</td>\n",
       "      <td>1.000000</td>\n",
       "      <td>1.000000</td>\n",
       "      <td>1.000000</td>\n",
       "    </tr>\n",
       "    <tr>\n",
       "      <th>Dgam_FF_downweight2</th>\n",
       "      <td>NaN</td>\n",
       "      <td>NaN</td>\n",
       "      <td>NaN</td>\n",
       "      <td>NaN</td>\n",
       "      <td>NaN</td>\n",
       "      <td>NaN</td>\n",
       "      <td>NaN</td>\n",
       "      <td>NaN</td>\n",
       "      <td>NaN</td>\n",
       "      <td>NaN</td>\n",
       "      <td>...</td>\n",
       "      <td>1.000000</td>\n",
       "      <td>1.000000</td>\n",
       "      <td>1.000000</td>\n",
       "      <td>1.000000</td>\n",
       "      <td>1.000000</td>\n",
       "      <td>1.000000</td>\n",
       "      <td>1.000000</td>\n",
       "      <td>1.000000</td>\n",
       "      <td>1.000000</td>\n",
       "      <td>1.000000</td>\n",
       "    </tr>\n",
       "    <tr>\n",
       "      <th>Dgam_FF_downweight3</th>\n",
       "      <td>NaN</td>\n",
       "      <td>NaN</td>\n",
       "      <td>NaN</td>\n",
       "      <td>NaN</td>\n",
       "      <td>NaN</td>\n",
       "      <td>NaN</td>\n",
       "      <td>NaN</td>\n",
       "      <td>NaN</td>\n",
       "      <td>NaN</td>\n",
       "      <td>NaN</td>\n",
       "      <td>...</td>\n",
       "      <td>1.000000</td>\n",
       "      <td>1.000000</td>\n",
       "      <td>1.000000</td>\n",
       "      <td>1.000000</td>\n",
       "      <td>1.000000</td>\n",
       "      <td>1.000000</td>\n",
       "      <td>1.000000</td>\n",
       "      <td>1.000000</td>\n",
       "      <td>1.000000</td>\n",
       "      <td>1.000000</td>\n",
       "    </tr>\n",
       "    <tr>\n",
       "      <th>Dgam_FF_downweight4</th>\n",
       "      <td>NaN</td>\n",
       "      <td>NaN</td>\n",
       "      <td>NaN</td>\n",
       "      <td>NaN</td>\n",
       "      <td>NaN</td>\n",
       "      <td>NaN</td>\n",
       "      <td>NaN</td>\n",
       "      <td>NaN</td>\n",
       "      <td>NaN</td>\n",
       "      <td>NaN</td>\n",
       "      <td>...</td>\n",
       "      <td>1.000000</td>\n",
       "      <td>1.000000</td>\n",
       "      <td>1.000000</td>\n",
       "      <td>1.000000</td>\n",
       "      <td>1.000000</td>\n",
       "      <td>1.000000</td>\n",
       "      <td>1.000000</td>\n",
       "      <td>1.000000</td>\n",
       "      <td>1.000000</td>\n",
       "      <td>1.000000</td>\n",
       "    </tr>\n",
       "    <tr>\n",
       "      <th>...</th>\n",
       "      <td>...</td>\n",
       "      <td>...</td>\n",
       "      <td>...</td>\n",
       "      <td>...</td>\n",
       "      <td>...</td>\n",
       "      <td>...</td>\n",
       "      <td>...</td>\n",
       "      <td>...</td>\n",
       "      <td>...</td>\n",
       "      <td>...</td>\n",
       "      <td>...</td>\n",
       "      <td>...</td>\n",
       "      <td>...</td>\n",
       "      <td>...</td>\n",
       "      <td>...</td>\n",
       "      <td>...</td>\n",
       "      <td>...</td>\n",
       "      <td>...</td>\n",
       "      <td>...</td>\n",
       "      <td>...</td>\n",
       "      <td>...</td>\n",
       "    </tr>\n",
       "    <tr>\n",
       "      <th>veto_slowNeuPi_q2</th>\n",
       "      <td>-50.000000</td>\n",
       "      <td>-50.000000</td>\n",
       "      <td>-50.000000</td>\n",
       "      <td>-50.000000</td>\n",
       "      <td>-50.000000</td>\n",
       "      <td>-50.000000</td>\n",
       "      <td>-50.000000</td>\n",
       "      <td>-50.000000</td>\n",
       "      <td>-50.000000</td>\n",
       "      <td>-50.000000</td>\n",
       "      <td>...</td>\n",
       "      <td>-50.000000</td>\n",
       "      <td>-50.000000</td>\n",
       "      <td>-50.000000</td>\n",
       "      <td>-50.000000</td>\n",
       "      <td>-50.000000</td>\n",
       "      <td>-50.000000</td>\n",
       "      <td>-50.000000</td>\n",
       "      <td>-50.000000</td>\n",
       "      <td>-50.000000</td>\n",
       "      <td>-50.000000</td>\n",
       "    </tr>\n",
       "    <tr>\n",
       "      <th>BDT_prediction</th>\n",
       "      <td>0.861051</td>\n",
       "      <td>0.923874</td>\n",
       "      <td>0.855147</td>\n",
       "      <td>0.895396</td>\n",
       "      <td>0.868223</td>\n",
       "      <td>0.867276</td>\n",
       "      <td>0.881392</td>\n",
       "      <td>0.911360</td>\n",
       "      <td>0.895396</td>\n",
       "      <td>0.869359</td>\n",
       "      <td>...</td>\n",
       "      <td>0.869381</td>\n",
       "      <td>0.893322</td>\n",
       "      <td>0.876564</td>\n",
       "      <td>0.885773</td>\n",
       "      <td>0.860214</td>\n",
       "      <td>0.900854</td>\n",
       "      <td>0.880726</td>\n",
       "      <td>0.877784</td>\n",
       "      <td>0.869857</td>\n",
       "      <td>0.869244</td>\n",
       "    </tr>\n",
       "    <tr>\n",
       "      <th>final_weight</th>\n",
       "      <td>NaN</td>\n",
       "      <td>NaN</td>\n",
       "      <td>NaN</td>\n",
       "      <td>NaN</td>\n",
       "      <td>NaN</td>\n",
       "      <td>NaN</td>\n",
       "      <td>NaN</td>\n",
       "      <td>NaN</td>\n",
       "      <td>NaN</td>\n",
       "      <td>NaN</td>\n",
       "      <td>...</td>\n",
       "      <td>NaN</td>\n",
       "      <td>NaN</td>\n",
       "      <td>NaN</td>\n",
       "      <td>NaN</td>\n",
       "      <td>NaN</td>\n",
       "      <td>NaN</td>\n",
       "      <td>NaN</td>\n",
       "      <td>NaN</td>\n",
       "      <td>NaN</td>\n",
       "      <td>NaN</td>\n",
       "    </tr>\n",
       "    <tr>\n",
       "      <th>pp</th>\n",
       "      <td>0.374950</td>\n",
       "      <td>0.878394</td>\n",
       "      <td>0.530645</td>\n",
       "      <td>0.511303</td>\n",
       "      <td>0.887353</td>\n",
       "      <td>0.642553</td>\n",
       "      <td>0.674591</td>\n",
       "      <td>0.534917</td>\n",
       "      <td>0.390654</td>\n",
       "      <td>0.443020</td>\n",
       "      <td>...</td>\n",
       "      <td>1.507919</td>\n",
       "      <td>0.944721</td>\n",
       "      <td>0.686002</td>\n",
       "      <td>2.069228</td>\n",
       "      <td>1.670192</td>\n",
       "      <td>1.212945</td>\n",
       "      <td>1.006661</td>\n",
       "      <td>1.130347</td>\n",
       "      <td>1.545020</td>\n",
       "      <td>1.919404</td>\n",
       "    </tr>\n",
       "    <tr>\n",
       "      <th>FinalWeight</th>\n",
       "      <td>NaN</td>\n",
       "      <td>NaN</td>\n",
       "      <td>NaN</td>\n",
       "      <td>NaN</td>\n",
       "      <td>NaN</td>\n",
       "      <td>NaN</td>\n",
       "      <td>NaN</td>\n",
       "      <td>NaN</td>\n",
       "      <td>NaN</td>\n",
       "      <td>NaN</td>\n",
       "      <td>...</td>\n",
       "      <td>0.500000</td>\n",
       "      <td>0.500000</td>\n",
       "      <td>0.500000</td>\n",
       "      <td>0.500000</td>\n",
       "      <td>0.500000</td>\n",
       "      <td>0.500000</td>\n",
       "      <td>0.500000</td>\n",
       "      <td>0.500000</td>\n",
       "      <td>0.500000</td>\n",
       "      <td>0.500000</td>\n",
       "    </tr>\n",
       "  </tbody>\n",
       "</table>\n",
       "<p>557 rows × 35916 columns</p>\n",
       "</div>"
      ],
      "text/plain": [
       "                        3          4          13         18         33      \\\n",
       "Dgam_FF_downweight0        NaN        NaN        NaN        NaN        NaN   \n",
       "Dgam_FF_downweight1        NaN        NaN        NaN        NaN        NaN   \n",
       "Dgam_FF_downweight2        NaN        NaN        NaN        NaN        NaN   \n",
       "Dgam_FF_downweight3        NaN        NaN        NaN        NaN        NaN   \n",
       "Dgam_FF_downweight4        NaN        NaN        NaN        NaN        NaN   \n",
       "...                        ...        ...        ...        ...        ...   \n",
       "veto_slowNeuPi_q2   -50.000000 -50.000000 -50.000000 -50.000000 -50.000000   \n",
       "BDT_prediction        0.861051   0.923874   0.855147   0.895396   0.868223   \n",
       "final_weight               NaN        NaN        NaN        NaN        NaN   \n",
       "pp                    0.374950   0.878394   0.530645   0.511303   0.887353   \n",
       "FinalWeight                NaN        NaN        NaN        NaN        NaN   \n",
       "\n",
       "                        35         42         81         94         99      \\\n",
       "Dgam_FF_downweight0        NaN        NaN        NaN        NaN        NaN   \n",
       "Dgam_FF_downweight1        NaN        NaN        NaN        NaN        NaN   \n",
       "Dgam_FF_downweight2        NaN        NaN        NaN        NaN        NaN   \n",
       "Dgam_FF_downweight3        NaN        NaN        NaN        NaN        NaN   \n",
       "Dgam_FF_downweight4        NaN        NaN        NaN        NaN        NaN   \n",
       "...                        ...        ...        ...        ...        ...   \n",
       "veto_slowNeuPi_q2   -50.000000 -50.000000 -50.000000 -50.000000 -50.000000   \n",
       "BDT_prediction        0.867276   0.881392   0.911360   0.895396   0.869359   \n",
       "final_weight               NaN        NaN        NaN        NaN        NaN   \n",
       "pp                    0.642553   0.674591   0.534917   0.390654   0.443020   \n",
       "FinalWeight                NaN        NaN        NaN        NaN        NaN   \n",
       "\n",
       "                     ...     407937     408075     408741     408830  \\\n",
       "Dgam_FF_downweight0  ...   1.000000   1.000000   1.000000   1.000000   \n",
       "Dgam_FF_downweight1  ...   1.000000   1.000000   1.000000   1.000000   \n",
       "Dgam_FF_downweight2  ...   1.000000   1.000000   1.000000   1.000000   \n",
       "Dgam_FF_downweight3  ...   1.000000   1.000000   1.000000   1.000000   \n",
       "Dgam_FF_downweight4  ...   1.000000   1.000000   1.000000   1.000000   \n",
       "...                  ...        ...        ...        ...        ...   \n",
       "veto_slowNeuPi_q2    ... -50.000000 -50.000000 -50.000000 -50.000000   \n",
       "BDT_prediction       ...   0.869381   0.893322   0.876564   0.885773   \n",
       "final_weight         ...        NaN        NaN        NaN        NaN   \n",
       "pp                   ...   1.507919   0.944721   0.686002   2.069228   \n",
       "FinalWeight          ...   0.500000   0.500000   0.500000   0.500000   \n",
       "\n",
       "                        408899     409074     409201     409242     409271  \\\n",
       "Dgam_FF_downweight0   1.000000   1.000000   1.000000   1.000000   1.000000   \n",
       "Dgam_FF_downweight1   1.000000   1.000000   1.000000   1.000000   1.000000   \n",
       "Dgam_FF_downweight2   1.000000   1.000000   1.000000   1.000000   1.000000   \n",
       "Dgam_FF_downweight3   1.000000   1.000000   1.000000   1.000000   1.000000   \n",
       "Dgam_FF_downweight4   1.000000   1.000000   1.000000   1.000000   1.000000   \n",
       "...                        ...        ...        ...        ...        ...   \n",
       "veto_slowNeuPi_q2   -50.000000 -50.000000 -50.000000 -50.000000 -50.000000   \n",
       "BDT_prediction        0.860214   0.900854   0.880726   0.877784   0.869857   \n",
       "final_weight               NaN        NaN        NaN        NaN        NaN   \n",
       "pp                    1.670192   1.212945   1.006661   1.130347   1.545020   \n",
       "FinalWeight           0.500000   0.500000   0.500000   0.500000   0.500000   \n",
       "\n",
       "                        409299  \n",
       "Dgam_FF_downweight0   1.000000  \n",
       "Dgam_FF_downweight1   1.000000  \n",
       "Dgam_FF_downweight2   1.000000  \n",
       "Dgam_FF_downweight3   1.000000  \n",
       "Dgam_FF_downweight4   1.000000  \n",
       "...                        ...  \n",
       "veto_slowNeuPi_q2   -50.000000  \n",
       "BDT_prediction        0.869244  \n",
       "final_weight               NaN  \n",
       "pp                    1.919404  \n",
       "FinalWeight           0.500000  \n",
       "\n",
       "[557 rows x 35916 columns]"
      ]
     },
     "execution_count": 3,
     "metadata": {},
     "output_type": "execute_result"
    }
   ],
   "source": [
    "df_umatch = pd.read_pickle('data/ulnu.pickle')\n",
    "df_D = pd.read_pickle('data/D.pickle')\n",
    "df_Dst = pd.read_pickle('data/Dst.pickle')\n",
    "df_Dstst = pd.read_pickle('data/Dstst.pickle')\n",
    "\n",
    "df_tot = pd.concat([df_umatch, df_D,df_Dst, df_Dstst])\n",
    "df_tot.T"
   ]
  },
  {
   "cell_type": "markdown",
   "metadata": {},
   "source": [
    "Inspect the dataframes"
   ]
  },
  {
   "cell_type": "code",
   "execution_count": 4,
   "metadata": {},
   "outputs": [
    {
     "name": "stdout",
     "output_type": "stream",
     "text": [
      "<class 'pandas.core.frame.DataFrame'>\n",
      "Int64Index: 35916 entries, 3 to 409299\n",
      "Columns: 557 entries, Dgam_FF_downweight0 to FinalWeight\n",
      "dtypes: float32(195), float64(325), int32(33), int64(1), uint32(3)\n",
      "memory usage: 122.5 MB\n"
     ]
    }
   ],
   "source": [
    "df_tot.info()"
   ]
  },
  {
   "cell_type": "code",
   "execution_count": 5,
   "metadata": {},
   "outputs": [
    {
     "data": {
      "text/html": [
       "<div>\n",
       "<style scoped>\n",
       "    .dataframe tbody tr th:only-of-type {\n",
       "        vertical-align: middle;\n",
       "    }\n",
       "\n",
       "    .dataframe tbody tr th {\n",
       "        vertical-align: top;\n",
       "    }\n",
       "\n",
       "    .dataframe thead th {\n",
       "        text-align: right;\n",
       "    }\n",
       "</style>\n",
       "<table border=\"1\" class=\"dataframe\">\n",
       "  <thead>\n",
       "    <tr style=\"text-align: right;\">\n",
       "      <th></th>\n",
       "      <th>count</th>\n",
       "      <th>mean</th>\n",
       "      <th>std</th>\n",
       "      <th>min</th>\n",
       "      <th>25%</th>\n",
       "      <th>50%</th>\n",
       "      <th>75%</th>\n",
       "      <th>max</th>\n",
       "    </tr>\n",
       "  </thead>\n",
       "  <tbody>\n",
       "    <tr>\n",
       "      <th>Dgam_FF_downweight0</th>\n",
       "      <td>10322.0</td>\n",
       "      <td>478.578506</td>\n",
       "      <td>2132.512677</td>\n",
       "      <td>6.162058e-01</td>\n",
       "      <td>1.000000</td>\n",
       "      <td>1.000000</td>\n",
       "      <td>1.000000</td>\n",
       "      <td>10000.000000</td>\n",
       "    </tr>\n",
       "    <tr>\n",
       "      <th>Dgam_FF_downweight1</th>\n",
       "      <td>10322.0</td>\n",
       "      <td>478.574170</td>\n",
       "      <td>2132.513648</td>\n",
       "      <td>6.845127e-01</td>\n",
       "      <td>1.000000</td>\n",
       "      <td>1.000000</td>\n",
       "      <td>1.000000</td>\n",
       "      <td>10000.000000</td>\n",
       "    </tr>\n",
       "    <tr>\n",
       "      <th>Dgam_FF_downweight2</th>\n",
       "      <td>10322.0</td>\n",
       "      <td>478.576607</td>\n",
       "      <td>2132.513102</td>\n",
       "      <td>6.170432e-01</td>\n",
       "      <td>1.000000</td>\n",
       "      <td>1.000000</td>\n",
       "      <td>1.000000</td>\n",
       "      <td>10000.000000</td>\n",
       "    </tr>\n",
       "    <tr>\n",
       "      <th>Dgam_FF_downweight3</th>\n",
       "      <td>10322.0</td>\n",
       "      <td>478.582045</td>\n",
       "      <td>2132.511884</td>\n",
       "      <td>6.759266e-01</td>\n",
       "      <td>1.000000</td>\n",
       "      <td>1.000000</td>\n",
       "      <td>1.000000</td>\n",
       "      <td>10000.000000</td>\n",
       "    </tr>\n",
       "    <tr>\n",
       "      <th>Dgam_FF_downweight4</th>\n",
       "      <td>10322.0</td>\n",
       "      <td>478.577504</td>\n",
       "      <td>2132.512901</td>\n",
       "      <td>6.884878e-01</td>\n",
       "      <td>1.000000</td>\n",
       "      <td>1.000000</td>\n",
       "      <td>1.000000</td>\n",
       "      <td>10000.000000</td>\n",
       "    </tr>\n",
       "    <tr>\n",
       "      <th>...</th>\n",
       "      <td>...</td>\n",
       "      <td>...</td>\n",
       "      <td>...</td>\n",
       "      <td>...</td>\n",
       "      <td>...</td>\n",
       "      <td>...</td>\n",
       "      <td>...</td>\n",
       "      <td>...</td>\n",
       "    </tr>\n",
       "    <tr>\n",
       "      <th>veto_slowNeuPi_q2</th>\n",
       "      <td>35916.0</td>\n",
       "      <td>-28.350130</td>\n",
       "      <td>430.470734</td>\n",
       "      <td>-5.000000e+01</td>\n",
       "      <td>-50.000000</td>\n",
       "      <td>-50.000000</td>\n",
       "      <td>-50.000000</td>\n",
       "      <td>10000.000000</td>\n",
       "    </tr>\n",
       "    <tr>\n",
       "      <th>BDT_prediction</th>\n",
       "      <td>35916.0</td>\n",
       "      <td>0.889762</td>\n",
       "      <td>0.023481</td>\n",
       "      <td>8.500130e-01</td>\n",
       "      <td>0.869359</td>\n",
       "      <td>0.888817</td>\n",
       "      <td>0.907894</td>\n",
       "      <td>0.986653</td>\n",
       "    </tr>\n",
       "    <tr>\n",
       "      <th>final_weight</th>\n",
       "      <td>11394.0</td>\n",
       "      <td>0.140711</td>\n",
       "      <td>0.039741</td>\n",
       "      <td>0.000000e+00</td>\n",
       "      <td>0.116893</td>\n",
       "      <td>0.170653</td>\n",
       "      <td>0.171431</td>\n",
       "      <td>0.171431</td>\n",
       "    </tr>\n",
       "    <tr>\n",
       "      <th>pp</th>\n",
       "      <td>35916.0</td>\n",
       "      <td>0.785941</td>\n",
       "      <td>0.522171</td>\n",
       "      <td>-1.192093e-07</td>\n",
       "      <td>0.394626</td>\n",
       "      <td>0.708361</td>\n",
       "      <td>1.082804</td>\n",
       "      <td>5.128110</td>\n",
       "    </tr>\n",
       "    <tr>\n",
       "      <th>FinalWeight</th>\n",
       "      <td>10322.0</td>\n",
       "      <td>0.500000</td>\n",
       "      <td>0.000000</td>\n",
       "      <td>5.000000e-01</td>\n",
       "      <td>0.500000</td>\n",
       "      <td>0.500000</td>\n",
       "      <td>0.500000</td>\n",
       "      <td>0.500000</td>\n",
       "    </tr>\n",
       "  </tbody>\n",
       "</table>\n",
       "<p>557 rows × 8 columns</p>\n",
       "</div>"
      ],
      "text/plain": [
       "                       count        mean          std           min  \\\n",
       "Dgam_FF_downweight0  10322.0  478.578506  2132.512677  6.162058e-01   \n",
       "Dgam_FF_downweight1  10322.0  478.574170  2132.513648  6.845127e-01   \n",
       "Dgam_FF_downweight2  10322.0  478.576607  2132.513102  6.170432e-01   \n",
       "Dgam_FF_downweight3  10322.0  478.582045  2132.511884  6.759266e-01   \n",
       "Dgam_FF_downweight4  10322.0  478.577504  2132.512901  6.884878e-01   \n",
       "...                      ...         ...          ...           ...   \n",
       "veto_slowNeuPi_q2    35916.0  -28.350130   430.470734 -5.000000e+01   \n",
       "BDT_prediction       35916.0    0.889762     0.023481  8.500130e-01   \n",
       "final_weight         11394.0    0.140711     0.039741  0.000000e+00   \n",
       "pp                   35916.0    0.785941     0.522171 -1.192093e-07   \n",
       "FinalWeight          10322.0    0.500000     0.000000  5.000000e-01   \n",
       "\n",
       "                           25%        50%        75%           max  \n",
       "Dgam_FF_downweight0   1.000000   1.000000   1.000000  10000.000000  \n",
       "Dgam_FF_downweight1   1.000000   1.000000   1.000000  10000.000000  \n",
       "Dgam_FF_downweight2   1.000000   1.000000   1.000000  10000.000000  \n",
       "Dgam_FF_downweight3   1.000000   1.000000   1.000000  10000.000000  \n",
       "Dgam_FF_downweight4   1.000000   1.000000   1.000000  10000.000000  \n",
       "...                        ...        ...        ...           ...  \n",
       "veto_slowNeuPi_q2   -50.000000 -50.000000 -50.000000  10000.000000  \n",
       "BDT_prediction        0.869359   0.888817   0.907894      0.986653  \n",
       "final_weight          0.116893   0.170653   0.171431      0.171431  \n",
       "pp                    0.394626   0.708361   1.082804      5.128110  \n",
       "FinalWeight           0.500000   0.500000   0.500000      0.500000  \n",
       "\n",
       "[557 rows x 8 columns]"
      ]
     },
     "execution_count": 5,
     "metadata": {},
     "output_type": "execute_result"
    }
   ],
   "source": [
    "df_tot.describe().T"
   ]
  },
  {
   "cell_type": "markdown",
   "metadata": {},
   "source": [
    "### Create histograms\n",
    "\n",
    "Binfit provided the `Hist1d` and `Hist2d` histogram classes which were first introduced in the `TemplateFitter` (this code was directly copied and unchanged, so you can switch between fitters without worrying about your histogram code).\n",
    "\n",
    "Lets look at their signature and documentation, as we always do when we use functions/classes which we haven't seen before, to see how to use them. For that we can use a questionmark (see below) or type `Shift+Tab` on a function name. Add a second questionmark (`??`) to also see the source code:"
   ]
  },
  {
   "cell_type": "code",
   "execution_count": 6,
   "metadata": {},
   "outputs": [
    {
     "data": {
      "text/plain": [
       "\u001b[0;31mInit signature:\u001b[0m \u001b[0mbinfit\u001b[0m\u001b[0;34m.\u001b[0m\u001b[0mHist1d\u001b[0m\u001b[0;34m(\u001b[0m\u001b[0mbins\u001b[0m\u001b[0;34m,\u001b[0m \u001b[0mrange\u001b[0m\u001b[0;34m=\u001b[0m\u001b[0;32mNone\u001b[0m\u001b[0;34m,\u001b[0m \u001b[0mdata\u001b[0m\u001b[0;34m=\u001b[0m\u001b[0;32mNone\u001b[0m\u001b[0;34m,\u001b[0m \u001b[0mweights\u001b[0m\u001b[0;34m=\u001b[0m\u001b[0;32mNone\u001b[0m\u001b[0;34m)\u001b[0m\u001b[0;34m\u001b[0m\u001b[0;34m\u001b[0m\u001b[0m\n",
       "\u001b[0;31mDocstring:\u001b[0m     \n",
       "A 1 dimensional histogram.\n",
       "    \n",
       "\u001b[0;31mFile:\u001b[0m           ~/.local/lib/python3.6/site-packages/binfit/histograms/hist1d.py\n",
       "\u001b[0;31mType:\u001b[0m           ABCMeta\n",
       "\u001b[0;31mSubclasses:\u001b[0m     \n"
      ]
     },
     "metadata": {},
     "output_type": "display_data"
    }
   ],
   "source": [
    "binfit.Hist1d?\n",
    "# binfit.Hist2d?"
   ]
  },
  {
   "cell_type": "markdown",
   "metadata": {},
   "source": [
    "Create 1D histograms in variable `gx_m` for different components"
   ]
  },
  {
   "cell_type": "code",
   "execution_count": 7,
   "metadata": {},
   "outputs": [],
   "source": [
    "var = 'gx_m'\n",
    "var_binning = np.array([0., 1.6, 1.9, 2.3, 2.5, 2.8])\n",
    "bin_range = (var_binning[0], var_binning[-1])\n",
    "\n",
    "hsig = binfit.Hist1d(bins=var_binning, range=bin_range, data=df_umatch[var], weights=df_umatch['tot_w_0'])\n",
    "hD = binfit.Hist1d(bins=var_binning, range=bin_range, data=df_D[var], weights=df_D['tot_w_0'])\n",
    "hDst = binfit.Hist1d(bins=var_binning, range=bin_range, data=df_Dst[var], weights=df_Dst['tot_w_0'])\n",
    "hDstst = binfit.Hist1d(bins=var_binning, range=bin_range, data=df_Dstst[var], weights=df_Dstst['tot_w_0'])\n",
    "htot = binfit.Hist1d(bins=var_binning, range=bin_range, data=df_tot[var], weights=df_tot['tot_w_0'])"
   ]
  },
  {
   "cell_type": "markdown",
   "metadata": {},
   "source": [
    "To view the histogram contents, we can just look at its dictionary representation:"
   ]
  },
  {
   "cell_type": "code",
   "execution_count": 8,
   "metadata": {},
   "outputs": [
    {
     "data": {
      "text/plain": [
       "{'_bin_counts': array([1348.85395079,  899.23408569, 1721.96584189,  513.2115362 ,\n",
       "         400.24599317]),\n",
       " '_bin_errors_sq': array([322.49223686, 325.39504215, 681.73434804, 211.19044184,\n",
       "        162.38729156]),\n",
       " '_bin_edges': array([0. , 1.6, 1.9, 2.3, 2.5, 2.8]),\n",
       " '_num_bins': 5,\n",
       " '_shape': (5,),\n",
       " '_range': (0.0, 2.8),\n",
       " '_is_empty': False}"
      ]
     },
     "execution_count": 8,
     "metadata": {},
     "output_type": "execute_result"
    }
   ],
   "source": [
    "htot.__dict__"
   ]
  },
  {
   "cell_type": "markdown",
   "metadata": {},
   "source": [
    "### Create templates from our histograms\n",
    "\n",
    "Again, first look at the signature of the functions that we will use"
   ]
  },
  {
   "cell_type": "code",
   "execution_count": 9,
   "metadata": {},
   "outputs": [
    {
     "data": {
      "text/plain": [
       "\u001b[0;31mInit signature:\u001b[0m\n",
       "\u001b[0mbinfit\u001b[0m\u001b[0;34m.\u001b[0m\u001b[0mTemplate1d\u001b[0m\u001b[0;34m(\u001b[0m\u001b[0;34m\u001b[0m\n",
       "\u001b[0;34m\u001b[0m    \u001b[0mname\u001b[0m\u001b[0;34m,\u001b[0m\u001b[0;34m\u001b[0m\n",
       "\u001b[0;34m\u001b[0m    \u001b[0mvariable\u001b[0m\u001b[0;34m,\u001b[0m\u001b[0;34m\u001b[0m\n",
       "\u001b[0;34m\u001b[0m    \u001b[0mhist1d\u001b[0m\u001b[0;34m,\u001b[0m\u001b[0;34m\u001b[0m\n",
       "\u001b[0;34m\u001b[0m    \u001b[0mparams\u001b[0m\u001b[0;34m,\u001b[0m\u001b[0;34m\u001b[0m\n",
       "\u001b[0;34m\u001b[0m    \u001b[0mcolor\u001b[0m\u001b[0;34m=\u001b[0m\u001b[0;32mNone\u001b[0m\u001b[0;34m,\u001b[0m\u001b[0;34m\u001b[0m\n",
       "\u001b[0;34m\u001b[0m    \u001b[0mpretty_variable\u001b[0m\u001b[0;34m=\u001b[0m\u001b[0;32mNone\u001b[0m\u001b[0;34m,\u001b[0m\u001b[0;34m\u001b[0m\n",
       "\u001b[0;34m\u001b[0m    \u001b[0mpretty_label\u001b[0m\u001b[0;34m=\u001b[0m\u001b[0;32mNone\u001b[0m\u001b[0;34m,\u001b[0m\u001b[0;34m\u001b[0m\n",
       "\u001b[0;34m\u001b[0m\u001b[0;34m)\u001b[0m\u001b[0;34m\u001b[0m\u001b[0;34m\u001b[0m\u001b[0m\n",
       "\u001b[0;31mDocstring:\u001b[0m     \n",
       "A 1d template class.\n",
       "    \n",
       "\u001b[0;31mInit docstring:\u001b[0m\n",
       "Constructor \n",
       "Parameters \n",
       "----------\n",
       "name : str\n",
       " template name\n",
       "param : ParameterHandler\n",
       " parameter handler\n",
       "\u001b[0;31mFile:\u001b[0m           ~/.local/lib/python3.6/site-packages/binfit/templates/template1d.py\n",
       "\u001b[0;31mType:\u001b[0m           ABCMeta\n",
       "\u001b[0;31mSubclasses:\u001b[0m     \n"
      ]
     },
     "metadata": {},
     "output_type": "display_data"
    }
   ],
   "source": [
    "binfit.Template1d?"
   ]
  },
  {
   "cell_type": "code",
   "execution_count": 10,
   "metadata": {},
   "outputs": [
    {
     "data": {
      "text/plain": [
       "\u001b[0;31mInit signature:\u001b[0m\n",
       "\u001b[0mbinfit\u001b[0m\u001b[0;34m.\u001b[0m\u001b[0mMultiNormTemplate\u001b[0m\u001b[0;34m(\u001b[0m\u001b[0;34m\u001b[0m\n",
       "\u001b[0;34m\u001b[0m    \u001b[0mname\u001b[0m\u001b[0;34m,\u001b[0m\u001b[0;34m\u001b[0m\n",
       "\u001b[0;34m\u001b[0m    \u001b[0mtemplates\u001b[0m\u001b[0;34m,\u001b[0m\u001b[0;34m\u001b[0m\n",
       "\u001b[0;34m\u001b[0m    \u001b[0mparams\u001b[0m\u001b[0;34m,\u001b[0m\u001b[0;34m\u001b[0m\n",
       "\u001b[0;34m\u001b[0m    \u001b[0minitialpars\u001b[0m\u001b[0;34m,\u001b[0m\u001b[0;34m\u001b[0m\n",
       "\u001b[0;34m\u001b[0m    \u001b[0mcolor\u001b[0m\u001b[0;34m=\u001b[0m\u001b[0;32mNone\u001b[0m\u001b[0;34m,\u001b[0m\u001b[0;34m\u001b[0m\n",
       "\u001b[0;34m\u001b[0m    \u001b[0mpretty_variable\u001b[0m\u001b[0;34m=\u001b[0m\u001b[0;32mNone\u001b[0m\u001b[0;34m,\u001b[0m\u001b[0;34m\u001b[0m\n",
       "\u001b[0;34m\u001b[0m    \u001b[0mpretty_label\u001b[0m\u001b[0;34m=\u001b[0m\u001b[0;32mNone\u001b[0m\u001b[0;34m,\u001b[0m\u001b[0;34m\u001b[0m\n",
       "\u001b[0;34m\u001b[0m\u001b[0;34m)\u001b[0m\u001b[0;34m\u001b[0m\u001b[0;34m\u001b[0m\u001b[0m\n",
       "\u001b[0;31mDocstring:\u001b[0m     \n",
       "combines several templates according to fractions.\n",
       "This produces a new pdf.\n",
       "\u001b[0;31mInit docstring:\u001b[0m\n",
       "Constructor \n",
       "Parameters \n",
       "----------\n",
       "name : str\n",
       " template name\n",
       "param : ParameterHandler\n",
       " parameter handler\n",
       "\u001b[0;31mFile:\u001b[0m           ~/.local/lib/python3.6/site-packages/binfit/templates/multitemplate.py\n",
       "\u001b[0;31mType:\u001b[0m           ABCMeta\n",
       "\u001b[0;31mSubclasses:\u001b[0m     \n"
      ]
     },
     "metadata": {},
     "output_type": "display_data"
    }
   ],
   "source": [
    "binfit.MultiNormTemplate?"
   ]
  },
  {
   "cell_type": "code",
   "execution_count": 11,
   "metadata": {},
   "outputs": [],
   "source": [
    "params = ParameterHandler()\n",
    "\n",
    "# signal template\n",
    "tsig = binfit.Template1d('ulnu', var, hsig, params, color='indianred')\n",
    "\n",
    "# continuum templates\n",
    "tD = binfit.Template1d('D',var, hD, params, color='navy')\n",
    "tDst = binfit.Template1d('Dst', var, hDst, params, color='orange')\n",
    "tDstst = binfit.Template1d('Dstst', var, hDstst,params, color='olivedrab')\n",
    "\n",
    "# combine continuum templates\n",
    "ctemps = {'D':tD,'Dst':tDst,'Dstst':tDstst}\n",
    "pars = {'D':0.3,'Dst':0.5}\n",
    "tbkg = binfit.MultiNormTemplate('clnu', ctemps,params,pars,color = 'lightskyblue')"
   ]
  },
  {
   "cell_type": "markdown",
   "metadata": {},
   "source": [
    "### Build a model to fit\n",
    "\n",
    "This is the most important part in every fit and also where all the magic in the `binfit` package happens"
   ]
  },
  {
   "cell_type": "code",
   "execution_count": 12,
   "metadata": {},
   "outputs": [
    {
     "data": {
      "text/plain": [
       "\u001b[0;31mInit signature:\u001b[0m \u001b[0mbinfit\u001b[0m\u001b[0;34m.\u001b[0m\u001b[0mModelBuilder\u001b[0m\u001b[0;34m(\u001b[0m\u001b[0mparams\u001b[0m\u001b[0;34m,\u001b[0m \u001b[0mdata\u001b[0m\u001b[0;34m,\u001b[0m \u001b[0mchannels\u001b[0m\u001b[0;34m=\u001b[0m\u001b[0;34m'False'\u001b[0m\u001b[0;34m)\u001b[0m\u001b[0;34m\u001b[0m\u001b[0;34m\u001b[0m\u001b[0m\n",
       "\u001b[0;31mDocstring:\u001b[0m      <no docstring>\n",
       "\u001b[0;31mFile:\u001b[0m           ~/.local/lib/python3.6/site-packages/binfit/models/modelbuilder.py\n",
       "\u001b[0;31mType:\u001b[0m           type\n",
       "\u001b[0;31mSubclasses:\u001b[0m     \n"
      ]
     },
     "metadata": {},
     "output_type": "display_data"
    }
   ],
   "source": [
    "binfit.ModelBuilder?"
   ]
  },
  {
   "cell_type": "code",
   "execution_count": 13,
   "metadata": {},
   "outputs": [],
   "source": [
    "model = binfit.ModelBuilder(params, htot)\n",
    "model.AddTemplate(tsig, 1000.)\n",
    "model.AddTemplate(tbkg, 4000.)"
   ]
  },
  {
   "cell_type": "code",
   "execution_count": 14,
   "metadata": {},
   "outputs": [],
   "source": [
    "def post_template_model_initialization(model):\n",
    "    \"\"\"Model methods that have to be called after the templates had been added to the model\n",
    "    \n",
    "    I don't understand why there isn't a method already that does all that automatically,\n",
    "    but we can define one ourselves. \n",
    "    \"\"\"\n",
    "    model._create_block_diag_inv_corr_mat()\n",
    "    model.TemplateMatrix() # doc: Creates the fixed template stack\n",
    "    model.RelativeErrorMatrix() # doc: Creates the fixed template stack \n",
    "    model.InitialiseBinPars() # doc: Add parameters for the template\n",
    "    model.FractionConverter() # doc: Determines the matrices required to tranform the subtemplate parameters\n",
    "    \n",
    "post_template_model_initialization(model)"
   ]
  },
  {
   "cell_type": "markdown",
   "metadata": {},
   "source": [
    "### Do the fit (minimize cost function)"
   ]
  },
  {
   "cell_type": "code",
   "execution_count": 22,
   "metadata": {},
   "outputs": [],
   "source": [
    "fitter = binfit.fitting.BinFitter(model, 'iminuit')\n",
    "fitter.do_fit?"
   ]
  },
  {
   "cell_type": "code",
   "execution_count": 25,
   "metadata": {},
   "outputs": [
    {
     "name": "stdout",
     "output_type": "stream",
     "text": [
      "[(None, None), (None, None), (None, None), (None, None), (None, None), (None, None), (None, None), (None, None), (None, None), (None, None), (None, None), (None, None), (None, None), (None, None), (None, None), (None, None), (None, None), (None, None), (None, None), (None, None), (None, None), (None, None), (None, None), (None, None)]\n",
      "------------------------------------------------------------------\n",
      "| FCN = 4.724E-07               |     Ncalls=530 (530 total)     |\n",
      "| EDM = 4.72E-07 (Goal: 0.0001) |            up = 0.5            |\n",
      "------------------------------------------------------------------\n",
      "|  Valid Min.   | Valid Param.  | Above EDM | Reached call limit |\n",
      "------------------------------------------------------------------\n",
      "|     True      |     True      |   False   |       False        |\n",
      "------------------------------------------------------------------\n",
      "| Hesse failed  |   Has cov.    | Accurate  | Pos. def. | Forced |\n",
      "------------------------------------------------------------------\n",
      "|     False     |     True      |   True    |   True    | False  |\n",
      "------------------------------------------------------------------\n",
      "------------------------------------------------------------------\n",
      "| FCN = 7.626E-14               |     Ncalls=146 (676 total)     |\n",
      "| EDM = 7.61E-14 (Goal: 0.0001) |            up = 0.5            |\n",
      "------------------------------------------------------------------\n",
      "|  Valid Min.   | Valid Param.  | Above EDM | Reached call limit |\n",
      "------------------------------------------------------------------\n",
      "|     True      |     True      |   False   |       False        |\n",
      "------------------------------------------------------------------\n",
      "| Hesse failed  |   Has cov.    | Accurate  | Pos. def. | Forced |\n",
      "------------------------------------------------------------------\n",
      "|     False     |     True      |   True    |   True    | False  |\n",
      "------------------------------------------------------------------\n"
     ]
    }
   ],
   "source": [
    "fit_result = fitter.do_fit()"
   ]
  },
  {
   "cell_type": "code",
   "execution_count": 26,
   "metadata": {},
   "outputs": [
    {
     "data": {
      "text/plain": [
       "True"
      ]
     },
     "execution_count": 26,
     "metadata": {},
     "output_type": "execute_result"
    }
   ],
   "source": [
    "fit_result.succes"
   ]
  },
  {
   "cell_type": "markdown",
   "metadata": {},
   "source": [
    "### Create plots"
   ]
  },
  {
   "cell_type": "code",
   "execution_count": 55,
   "metadata": {},
   "outputs": [],
   "source": [
    "import matplotlib.pyplot as plt"
   ]
  },
  {
   "cell_type": "code",
   "execution_count": 74,
   "metadata": {},
   "outputs": [
    {
     "name": "stderr",
     "output_type": "stream",
     "text": [
      "/home/michael/.local/lib/python3.6/site-packages/binfit/parameters/parametershandler.py:37: FutureWarning: Using a non-tuple sequence for multidimensional indexing is deprecated; use `arr[tuple(seq)]` instead of `arr[seq]`. In the future this will be interpreted as an array index, `arr[np.array(seq)]`, which will result either in an error or a different result.\n",
      "  return(self._npars[indices])\n"
     ]
    },
    {
     "data": {
      "image/png": "[encoded data removed]",
      "text/plain": [
       "<Figure size 1000x1000 with 2 Axes>"
      ]
     },
     "metadata": {
      "needs_background": "light"
     },
     "output_type": "display_data"
    }
   ],
   "source": [
    "fig, axis_array = plt.subplots(2, 1, figsize=(5, 5), dpi=200, sharex=True, gridspec_kw={\"height_ratios\": [3.5, 1]})\n",
    "model.plot_stacked_on(axis_array, All=True)"
   ]
  },
  {
   "cell_type": "code",
   "execution_count": null,
   "metadata": {},
   "outputs": [],
   "source": []
  }
 ],
 "metadata": {
  "kernelspec": {
   "display_name": "Python 3",
   "language": "python",
   "name": "python3"
  },
  "language_info": {
   "codemirror_mode": {
    "name": "ipython",
    "version": 3
   },
   "file_extension": ".py",
   "mimetype": "text/x-python",
   "name": "python",
   "nbconvert_exporter": "python",
   "pygments_lexer": "ipython3",
   "version": "3.6.10"
  }
 },
 "nbformat": 4,
 "nbformat_minor": 4
}
