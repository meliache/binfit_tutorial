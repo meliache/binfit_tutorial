{
 "cells": [
  {
   "cell_type": "markdown",
   "metadata": {},
   "source": [
    "Execute the following cell to render the README.md inside the notebook:"
   ]
  },
  {
   "cell_type": "code",
   "execution_count": 3,
   "metadata": {},
   "outputs": [
    {
     "data": {
      "text/markdown": [
       "# Binfit Tutorial\n",
       "\n",
       "Tutorial for the [binfit](https://stash.desy.de/users/sutclw/repos/binfit)\n",
       "package developed for template fits in Belle II analyses.\n",
       "\n",
       "## Background information on`binfit` and relation to `TemplateFitter`\n",
       "\n",
       "`binfit` is a python package for performing template fits in pure python\n",
       "developed and maintained by [William\n",
       "Sutcliffe](mailto:william.sutcliffe08@gmail.com).\n",
       "\n",
       "Its code is based in large parts on [Maximillian Welsch](mailto:mwelsch@uni-bonn.de)'s `TemplateFitter` package,\n",
       "which is also openly [available on github](https://github.com/welschma/TemplateFitter).\n",
       "\n",
       "Another fork of the `TemplateFitter` package is being actively developed by [Felix Metzner](mailto:felix.metzner@kit.edu), also [on github](https://github.com/FelixMetzner/TemplateFitter). As far as I understand he extends it generalizes the template fitter, e.g. with support for arbitrary dimensions, adaptive binning.\n",
       "\n",
       "## Other references / tutorials\n",
       "\n",
       "An already existing example notebook can be found in the [binfit/examples/](https://stash.desy.de/users/sutclw/repos/binfit/browse/binfit/examples) directory of the packages. It requires you to clone binfit (see *Installation* section below). I will take inspiration from that.\n",
       "\n",
       "There is a `docs/` directory which is meant to contain sphinx package documentation (what basf2 uses) in RestructuredText (rst format), but the installation instructions there are outdated. Maybe that will change. Feel free to contribute if you want.\n",
       "\n",
       "Max had already given a nice tutorial for his package at the October 2019 B2GM.\n",
       "In his talk he gave a very nice overview on the theory of template fitting, so I recommend you to look at his [slides](https://indico.belle2.org/event/1158/contributions/4726/attachments/2809/4241/b2gm_templatefitter.pdf). If you want to try out Max' `TemplateFitter`, e.g. to compare it to `binfit`, there's already good [tutorials](https://github.com/welschma/TemplateFitter/blob/master/examples/basic_example.ipynb) in his packages `examples` folder. Also, his package has a nice sphinx [online-documentation on readthedocs](https://templatefitter.readthedocs.io/en/latest/index.html).\n",
       "\n",
       "## Tutorial author\n",
       "\n",
       "[Michael Eliachevitch](mailto:meliache@uni-bonn.de \"email\")\n"
      ],
      "text/plain": [
       "<IPython.core.display.Markdown object>"
      ]
     },
     "metadata": {},
     "output_type": "display_data"
    }
   ],
   "source": [
    "from IPython.display import display, Markdown\n",
    "with open('README.md', 'r') as fh:\n",
    "    content = fh.read()\n",
    "display(Markdown(content))"
   ]
  },
  {
   "cell_type": "markdown",
   "metadata": {},
   "source": [
    "## Installation\n",
    "\n",
    "### Variant 1: pip install via single command\n",
    "The fastest is to just install it via `pip` with a single command (if you haven't installed it yet, you can just execute the notebook cell below):"
   ]
  },
  {
   "cell_type": "code",
   "execution_count": null,
   "metadata": {},
   "outputs": [],
   "source": [
    "!python3 -m pip install --user --upgrade \"git+ssh://git@stash.desy.de:7999/~sutclw/binfit.git\""
   ]
  },
  {
   "cell_type": "markdown",
   "metadata": {},
   "source": [
    "### Variant 2: Clone the repository (recommended)\n",
    "\n",
    "I would recommend thi options, because that makes it actually easier to navigate the source code locally.\n",
    "Also, you will be able to browse the documentation and examples which come with the package.\n",
    "\n",
    "```bash\n",
    "git clone ssh://git@stash.desy.de:7999/~sutclw/binfit.git\n",
    "cd binfit\n",
    "python3 -m pip3 install --user --editable --upgrade . \n",
    "```\n",
    "\n",
    "The last install command will install the package and its requirements. The `--editable` changes the installation so that it is performed by symlinking the package files instead of copying them. As a result, if you change something in the source code, the changes will immediately effect the installed version."
   ]
  },
  {
   "cell_type": "markdown",
   "metadata": {},
   "source": [
    "## Usage\n",
    "As soon as the package is installed, you should be able to successfully import it:"
   ]
  },
  {
   "cell_type": "code",
   "execution_count": null,
   "metadata": {},
   "outputs": [],
   "source": [
    "import binfit\n",
    "import pandas as pd\n",
    "import numpy as pd"
   ]
  }
 ],
 "metadata": {
  "kernelspec": {
   "display_name": "Python 3",
   "language": "python",
   "name": "python3"
  },
  "language_info": {
   "codemirror_mode": {
    "name": "ipython",
    "version": 3
   },
   "file_extension": ".py",
   "mimetype": "text/x-python",
   "name": "python",
   "nbconvert_exporter": "python",
   "pygments_lexer": "ipython3",
   "version": "3.6.10"
  }
 },
 "nbformat": 4,
 "nbformat_minor": 4
}
